{
  "nbformat": 4,
  "nbformat_minor": 0,
  "metadata": {
    "colab": {
      "name": "hw4.ipynb",
      "provenance": [],
      "authorship_tag": "ABX9TyOtwXA3giEDvFUt+cnrEFOk",
      "include_colab_link": true
    },
    "kernelspec": {
      "name": "python3",
      "display_name": "Python 3"
    }
  },
  "cells": [
    {
      "cell_type": "markdown",
      "metadata": {
        "id": "view-in-github",
        "colab_type": "text"
      },
      "source": [
        "<a href=\"https://colab.research.google.com/github/furkancimen/COT5600/blob/master/hw4/hw4.ipynb\" target=\"_parent\"><img src=\"https://colab.research.google.com/assets/colab-badge.svg\" alt=\"Open In Colab\"/></a>"
      ]
    },
    {
      "cell_type": "code",
      "metadata": {
        "id": "lviS5egeTR1Y",
        "colab_type": "code",
        "colab": {
          "base_uri": "https://localhost:8080/",
          "height": 136
        },
        "outputId": "80178617-b709-4e46-e387-2dcb192f1153"
      },
      "source": [
        "import numpy as np\n",
        "\n",
        "# Driectly used the code form wikipedia\n",
        "def floyd(f, x0):\n",
        "    # Main phase of algorithm: finding a repetition x_i = x_2i.\n",
        "    # The hare moves twice as quickly as the tortoise and\n",
        "    # the distance between them increases by 1 at each step.\n",
        "    # Eventually they will both be inside the cycle and then,\n",
        "    # at some point, the distance between them will be\n",
        "    # divisible by the period λ.\n",
        "    tortoise = f(x0)  # f(x0) is the element/node next to x0.\n",
        "    hare = f(f(x0))\n",
        "    while tortoise != hare:\n",
        "        tortoise = f(tortoise)\n",
        "        hare = f(f(hare))\n",
        "    # At this point the tortoise position, ν, which is also equal\n",
        "    # to the distance between hare and tortoise, is divisible by\n",
        "    # the period λ. So hare moving in circle one step at a time,\n",
        "    # and tortoise (reset to x0) moving towards the circle, will\n",
        "    # intersect at the beginning of the circle. Because the\n",
        "    # distance between them is constant at 2ν, a multiple of λ,\n",
        "    # they will agree as soon as the tortoise reaches index μ.\n",
        "\n",
        "    # Find the position μ of first repetition.\n",
        "    mu = 0\n",
        "    tortoise = x0\n",
        "    while tortoise != hare:\n",
        "        tortoise = f(tortoise)\n",
        "        hare = f(hare)  # Hare and tortoise move at same speed\n",
        "        mu += 1\n",
        "    # Find the length of the shortest cycle starting from x_μ\n",
        "    # The hare moves one step at a time while tortoise is still.\n",
        "    # lam is incremented until λ is found.\n",
        "    lam = 1\n",
        "    hare = f(tortoise)\n",
        "    while tortoise != hare:\n",
        "        hare = f(hare)\n",
        "        lam += 1\n",
        "\n",
        "    return lam, mu\n",
        "\n",
        "\n",
        "def find_order(a, N):\n",
        "    def f(x):\n",
        "        if x == 0:\n",
        "            return 1\n",
        "        return a * x % N\n",
        "\n",
        "    lam, mu = floyd(f, 1)\n",
        "    return lam + mu\n",
        "\n",
        "\n",
        "def factor(N):\n",
        "    f = 1  # Trivial factor\n",
        "    prev_a = [0]  # use it to make sure to select a different 'a'\n",
        "    a = 0\n",
        "\n",
        "    while f == 1 or f == N:  # if f is a trivial factor, choose different a\n",
        "        r = -1  # assign an odd value initially\n",
        "        while r % 2 == 1:  # if r odd, chose different a\n",
        "            while a in prev_a and len(prev_a)<(N-1):\n",
        "                # choose a uniformly at random in {2,...,N-1}\n",
        "                a = np.random.randint(2, N)\n",
        "            # if all possible a is selected and still no result it's prime\n",
        "            if len(prev_a)==(N-1):\n",
        "                return print(f'{N} is a prime number, hence no non-trivial factor')\n",
        "\n",
        "            prev_a.append(a)\n",
        "            # compute the order r of a module N using the method from problem 2\n",
        "            r = find_order(a, N)\n",
        "\n",
        "        # if r%2=0 r is even so compute\n",
        "        f = np.gcd(int(a**(r / 2 - 1)), N)\n",
        "    return f\n",
        "\n",
        "N = 45\n",
        "print(f\"{N} has non-trivial factors [3,5,9,15]\")\n",
        "# Run 15 times\n",
        "print(set(factor(N) for i in range(100)))\n",
        "\n",
        "N = 36\n",
        "print(f\"\\n{N} has non-trivial factors [2,3,4,6,9,12,18]\")\n",
        "# Run 15 times\n",
        "print(set(factor(N) for i in range(100)), '\\n')\n",
        "\n",
        "# Run for a prime number\n",
        "factor(37)"
      ],
      "execution_count": 21,
      "outputs": [
        {
          "output_type": "stream",
          "text": [
            "45 has non-trivial factors [3,5,9,15]\n",
            "{9, 3, 5}\n",
            "\n",
            "36 has non-trivial factors [2,3,4,6,9,12,18]\n",
            "{2, 3, 4} \n",
            "\n",
            "37 is a prime number, hence no non-trivial factor\n"
          ],
          "name": "stdout"
        }
      ]
    }
  ]
}