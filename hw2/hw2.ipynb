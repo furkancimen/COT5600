{
  "nbformat": 4,
  "nbformat_minor": 0,
  "metadata": {
    "colab": {
      "name": "hw2.ipynb",
      "provenance": [],
      "authorship_tag": "ABX9TyMHYnAqmg6ARg1Y2AfzN1B5",
      "include_colab_link": true
    },
    "kernelspec": {
      "name": "python3",
      "display_name": "Python 3"
    }
  },
  "cells": [
    {
      "cell_type": "markdown",
      "metadata": {
        "id": "view-in-github",
        "colab_type": "text"
      },
      "source": [
        "<a href=\"https://colab.research.google.com/github/furkancimen/COT5600/blob/master/hw2/hw2.ipynb\" target=\"_parent\"><img src=\"https://colab.research.google.com/assets/colab-badge.svg\" alt=\"Open In Colab\"/></a>"
      ]
    },
    {
      "cell_type": "code",
      "metadata": {
        "id": "lyubvz54kYqK",
        "colab_type": "code",
        "colab": {
          "base_uri": "https://localhost:8080/",
          "height": 282
        },
        "outputId": "735630bb-f1a6-4bfd-87a5-d35b91079357"
      },
      "source": [
        "import numpy as np\n",
        "from numpy import cos, sin, exp, sqrt, pi\n",
        "import scipy.linalg as LA\n",
        "import matplotlib.pyplot as plt\n",
        "\n",
        "\n",
        "np.set_printoptions(precision=3, suppress=True)\n",
        "\n",
        "\n",
        "# Defien identity operator\n",
        "Id = np.eye(2)\n",
        "\n",
        "# Define our zero qubit\n",
        "Zero = np.array([[1.0],\n",
        "                 [0.0]])\n",
        "# Define out one qubit\n",
        "One = np.array([[0.0],\n",
        "                [1.0]])\n",
        "\n",
        "# P_0 = |0><0|\n",
        "P_0 = np.dot(Zero, Zero.T)\n",
        "\n",
        "# P_1 = |1><1|\n",
        "P_1 = np.dot(One, One.T)\n",
        "\n",
        "# Define Hadamard opeartion\n",
        "Hadamard = 1./sqrt(2) * np.array([[1, 1],\n",
        "                                  [1, -1]])\n",
        "HadamardZeroOnTwo = np.kron(Hadamard, Id)\n",
        "\n",
        "# Define rotation matrix\n",
        "def rotation_matrix(theta):\n",
        "  return np.array([[cos(theta), -sin(theta)],\n",
        "                   [sin(theta), cos(theta)]])\n",
        "  \n",
        "# States should be unit amplitude\n",
        "def normalize_state(state):\n",
        "  return state/LA.norm(state)\n",
        "\n",
        "# Unitary operation controlled by 0 and applied to 1 for theta_delta\n",
        "# Define theta steps\n",
        "delta_theta = 2*pi/100\n",
        "CUnitary01 = np.kron(P_0, Id) + np.kron(P_1, rotation_matrix(delta_theta))\n",
        "\n",
        "\n",
        "# Form our 2 qubit with |psi> = 0\n",
        "ZeroZero = np.kron(Zero, Zero)\n",
        "\n",
        "# Apply hadamard to the first qubit\n",
        "NewState = np.dot(HadamardZeroOnTwo, ZeroZero)\n",
        "\n",
        "\n",
        "LastState_array = [np.dot(HadamardZeroOnTwo, NewState)]\n",
        "AfterUnitaryState = np.dot(CUnitary01, NewState)\n",
        "for index in range(100):\n",
        "  TheLastHadamardState = np.dot(HadamardZeroOnTwo, AfterUnitaryState)\n",
        "  LastState_array.append(TheLastHadamardState)\n",
        "  AfterUnitaryState = np.dot(CUnitary01, AfterUnitaryState)\n",
        "\n",
        "#Find probability of measuring 0 on qubit 0\n",
        "Prob0_array = []\n",
        "for state in LastState_array:\n",
        "  Prob0 = np.trace(np.dot(np.kron(P_0, Id), state))\n",
        "  Prob0_array.append(Prob0)\n",
        "\n",
        "\n",
        "\n",
        "thetaVal_array = np.array(list(range(101))) * 2 * pi/100\n",
        "plt.plot(thetaVal_array, Prob0_array)\n"
      ],
      "execution_count": 8,
      "outputs": [
        {
          "output_type": "execute_result",
          "data": {
            "text/plain": [
              "[<matplotlib.lines.Line2D at 0x7f3957a06d68>]"
            ]
          },
          "metadata": {
            "tags": []
          },
          "execution_count": 8
        },
        {
          "output_type": "display_data",
          "data": {
            "image/png": "[encoded data removed]",
            "text/plain": [
              "<Figure size 432x288 with 1 Axes>"
            ]
          },
          "metadata": {
            "tags": [],
            "needs_background": "light"
          }
        }
      ]
    },
    {
      "cell_type": "code",
      "metadata": {
        "id": "8EMbKGboueJM",
        "colab_type": "code",
        "colab": {
          "base_uri": "https://localhost:8080/",
          "height": 282
        },
        "outputId": "572e056c-1385-4a8c-e1cc-e013e9a0d904"
      },
      "source": [
        "import numpy as np\n",
        "from numpy import cos, sin, exp, sqrt, pi\n",
        "import scipy.linalg as LA\n",
        "import matplotlib.pyplot as plt\n",
        "\n",
        "\n",
        "np.set_printoptions(precision=3, suppress=True)\n",
        "\n",
        "def NKron(*args):\n",
        "  \"\"\"Calculate a Kronecker product over a variable number of inputs\"\"\"\n",
        "  result = np.array([[1.0]])\n",
        "  for op in args:\n",
        "    result = np.kron(result, op)\n",
        "  return result\n",
        "\n",
        "# Defien identity operator\n",
        "Id = np.eye(2)\n",
        "\n",
        "# Define our zero qubit\n",
        "Zero = np.array([[1.0],\n",
        "                 [0.0]])\n",
        "# Define out one qubit\n",
        "One = np.array([[0.0],\n",
        "                [1.0]])\n",
        "\n",
        "# P_0 = |0><0|\n",
        "P_0 = np.dot(Zero, Zero.T)\n",
        "\n",
        "# P_1 = |1><1|\n",
        "P_1 = np.dot(One, One.T)\n",
        "\n",
        "# Define Hadamard opeartion\n",
        "Hadamard = 1./sqrt(2) * np.array([[1, 1],\n",
        "                                  [1, -1]])\n",
        "HadamardZeroOnThree = NKron(Hadamard, Id, Id)\n",
        "\n",
        "# Define SWAP operator\n",
        "Swap = np.array([[1, 0, 0, 0],\n",
        "                 [0, 1, 0, 0],\n",
        "                 [0, 0, 0, 1],\n",
        "                 [0, 0, 1, 0]])\n",
        "ControlledSwap = np.kron(np.kron(P_0, Id), Id) + np.kron(P_1, Swap)\n",
        "\n",
        "q1 = Zero\n",
        "def q2(theta):\n",
        "  return np.array([[cos(theta)],\n",
        "                   [sin(theta)]])\n",
        "\n",
        "NewState = np.dot(Hadamard, Zero)\n",
        "\n",
        "thetaVal_array = np.array(list(range(101))) * 2 * pi/100  \n",
        "LastState_array = []\n",
        "\n",
        "for theta in thetaVal_array:\n",
        "  ThreeQubitState = NKron(NewState, q1, q2(theta))\n",
        "  SwapOperation = np.dot(ControlledSwap, ThreeQubitState)\n",
        "  TheLastHadamardState = np.dot(HadamardZeroOnThree, SwapOperation)\n",
        "  LastState_array.append(TheLastHadamardState)\n",
        "\n",
        "#Find probability of measuring 0 on qubit 0\n",
        "Prob0_array = []\n",
        "for state in LastState_array:\n",
        "  Prob0 = np.trace(np.dot(NKron(P_0, Id, Id), state))\n",
        "  Prob0_array.append(Prob0)\n",
        "\n",
        "plt.plot(thetaVal_array, Prob0_array)\n"
      ],
      "execution_count": 16,
      "outputs": [
        {
          "output_type": "execute_result",
          "data": {
            "text/plain": [
              "[<matplotlib.lines.Line2D at 0x7f39577f9be0>]"
            ]
          },
          "metadata": {
            "tags": []
          },
          "execution_count": 16
        },
        {
          "output_type": "display_data",
          "data": {
            "image/png": "[encoded data removed]",
            "text/plain": [
              "<Figure size 432x288 with 1 Axes>"
            ]
          },
          "metadata": {
            "tags": [],
            "needs_background": "light"
          }
        }
      ]
    }
  ]
}