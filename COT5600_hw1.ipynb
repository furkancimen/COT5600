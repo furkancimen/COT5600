{
  "nbformat": 4,
  "nbformat_minor": 0,
  "metadata": {
    "colab": {
      "name": "COT5600_hw1.ipynb",
      "provenance": [],
      "authorship_tag": "ABX9TyNrgnE1LjTCqWCMdjwcx2Je",
      "include_colab_link": true
    },
    "kernelspec": {
      "name": "python3",
      "display_name": "Python 3"
    }
  },
  "cells": [
    {
      "cell_type": "markdown",
      "metadata": {
        "id": "view-in-github",
        "colab_type": "text"
      },
      "source": [
        "<a href=\"https://colab.research.google.com/github/furkancimen/COT5600/blob/master/COT5600_hw1.ipynb\" target=\"_parent\"><img src=\"https://colab.research.google.com/assets/colab-badge.svg\" alt=\"Open In Colab\"/></a>"
      ]
    },
    {
      "cell_type": "code",
      "metadata": {
        "id": "PvBDKnLA6rQe",
        "colab_type": "code",
        "outputId": "a841eee1-ce32-41c7-d188-33b9c9ce65f3",
        "colab": {
          "base_uri": "https://localhost:8080/",
          "height": 391
        }
      },
      "source": [
        "import numpy as np\n",
        "from scipy.linalg import null_space\n",
        "import pdb\n",
        "\n",
        "def annihilate_poly(M):\n",
        "  M = np.array(M)\n",
        "  size = M.shape\n",
        "  #  Check for proper Matrix dimensions\n",
        "  if len(size) != 2:\n",
        "    print('Please enter a proper square matrix')\n",
        "    exit(0)\n",
        "  elif size[0] != size[1]:\n",
        "    print('Matrix shpuld be a square matrix')\n",
        "    exit(0)\n",
        "  n = size[0] # the size of matrix\n",
        "  M_power = np.identity(n)\n",
        "  M_vec = np.zeros(shape=(n**2, n**2 + 1)) # max vec size to have a guaranteed solution other than non-trivial\n",
        "  for i in range(n**2+1):\n",
        "    M_vec[:,i] = M_power.flatten()\n",
        "    M_power = np.matmul(M_power, M)\n",
        "\n",
        "  null_s = null_space(M_vec) # Gets the null space\n",
        "  #print(np.allclose(M_vec.dot(null_s), 0))  # Checks the null space solution is ok\n",
        "  return null_s[:,0] # returns just the first vector from the null space\n",
        "\n",
        "def annihilate_min_deg_poly(M):\n",
        "  M = np.array(M)\n",
        "  size = M.shape\n",
        "  #  Check for proper Matrix dimensions\n",
        "  if len(size) != 2:\n",
        "    print('Please enter a proper square matrix')\n",
        "    exit(0)\n",
        "  elif size[0] != size[1]:\n",
        "    print('Matrix shpuld be a square matrix')\n",
        "    exit(0)\n",
        "  n = size[0] # the size of matrix\n",
        "  M_power = np.identity(n)\n",
        "  M_vec = np.zeros(shape=(n**2, n**2 + 1)) # max vec size to have a guaranteed solution other than non-trivial\n",
        "  for i in range(n**2+1):\n",
        "    M_vec[:,i] = M_power.flatten()\n",
        "    M_power = np.matmul(M_power, M)\n",
        "    null_s = null_space(M_vec[:, 0:i+1]) # Gets the null space\n",
        "    if null_s.any():  # If there is a non-trivial solution for null-space it ends the for loop\n",
        "      # print(null_s)\n",
        "      break\n",
        "  \n",
        "  #print(np.allclose(M_vec[:, 0:i+1].dot(null_s), 0))  # Checks the null space solution is ok\n",
        "  return null_s[:,0] # returns just the first vector from the null space\n",
        "\n",
        "def test_of_annihilation(input_matrix, annihilation_vector):\n",
        "  print('\\nThis is the coefficients for annihilation\\n', annihilation_vector, sep='')\n",
        "  # test starts\n",
        "  n = input_matrix.shape[0] # the size of input matrix\n",
        "  M_power = np.identity(n) # The zero power of every matrix is identity\n",
        "  M_annihilate = 0  # Powers of matrix is going to be added to this matrix and at the end it needs to be completely zero\n",
        "  for i in range(len(annihilation_vector)):\n",
        "    M_annihilate += M_power * annihilation_vector[i]\n",
        "    M_power = np.matmul(M_power, input_matrix)\n",
        "  print('\\nAnnihilation result\\n',M_annihilate, sep='')\n",
        "  print('\\nIs the annihilated matrix is zero or close enough to zero? ==> ',\n",
        "        np.allclose(M_annihilate, 0), sep='') # Checks the annihilate vector is close enough to zero to be considered zero\n",
        "\n",
        "\n",
        "\n",
        "input_matrix = np.array([[1,0], [0,1]])\n",
        "\n",
        "# an example to test annihilate_poly\n",
        "print('\\n', '*'*10, 'Test of annihilate_poly', '*'*10)\n",
        "annihilation_vector = annihilate_poly(input_matrix)\n",
        "test_of_annihilation(input_matrix, annihilation_vector)\n",
        "\n",
        "# an example to test annihilate_min_deg_poly\n",
        "print('\\n', '*'*10, 'Test of annihilate_min_deg_poly', '*'*10)\n",
        "annihilation_vector = annihilate_min_deg_poly(input_matrix)\n",
        "test_of_annihilation(input_matrix, annihilation_vector)\n",
        "\n"
      ],
      "execution_count": 0,
      "outputs": [
        {
          "output_type": "stream",
          "text": [
            "\n",
            " ********** Test of annihilate_poly **********\n",
            "\n",
            "This is the coefficients for annihilation\n",
            "[ 0.37115547  0.88506757 -0.25317143  0.12005823 -0.01972954]\n",
            "\n",
            "Annihilation result\n",
            "[[8.88178420e-16 1.77635684e-15]\n",
            " [3.55271368e-15 3.55271368e-15]]\n",
            "\n",
            "Is the annihilated matrix is zero or close enough to zero? ==> True\n",
            "\n",
            " ********** Test of annihilate_min_deg_poly **********\n",
            "\n",
            "This is the coefficients for annihilation\n",
            "[-0.36514837 -0.91287093  0.18257419]\n",
            "\n",
            "Annihilation result\n",
            "[[-1.99840144e-15 -2.22044605e-16]\n",
            " [-4.44089210e-16 -1.77635684e-15]]\n",
            "\n",
            "Is the annihilated matrix is zero or close enough to zero? ==> True\n"
          ],
          "name": "stdout"
        }
      ]
    }
  ]
}