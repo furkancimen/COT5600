{
  "nbformat": 4,
  "nbformat_minor": 0,
  "metadata": {
    "colab": {
      "name": "COT5600_hw1.ipynb",
      "provenance": [],
      "authorship_tag": "ABX9TyNHM5hEIk5TrxxiLv0UXMJD",
      "include_colab_link": true
    },
    "kernelspec": {
      "name": "python3",
      "display_name": "Python 3"
    }
  },
  "cells": [
    {
      "cell_type": "markdown",
      "metadata": {
        "id": "view-in-github",
        "colab_type": "text"
      },
      "source": [
        "<a href=\"https://colab.research.google.com/github/furkancimen/COT5600/blob/master/hw_1/COT5600_hw1.ipynb\" target=\"_parent\"><img src=\"https://colab.research.google.com/assets/colab-badge.svg\" alt=\"Open In Colab\"/></a>"
      ]
    },
    {
      "cell_type": "code",
      "metadata": {
        "id": "PvBDKnLA6rQe",
        "colab_type": "code",
        "colab": {
          "base_uri": "https://localhost:8080/",
          "height": 51
        },
        "outputId": "174cdf2a-51d2-44c6-8834-8412cdd51e7b"
      },
      "source": [
        "import numpy as np\n",
        "from scipy.linalg import null_space\n",
        "import pdb\n",
        "\n",
        "def annihilate_poly(M):\n",
        "  M = np.array(M)\n",
        "  size = M.shape\n",
        "  #  Check for proper Matrix dimensions\n",
        "  if len(size) != 2:\n",
        "    print('Please enter a proper square matrix')\n",
        "    exit(0)\n",
        "  elif size[0] != size[1]:\n",
        "    print('Matrix shpuld be a square matrix')\n",
        "    exit(0)\n",
        "  n = size[0] # the size of matrix\n",
        "  M_power = np.identity(n)\n",
        "  M_vec = np.zeros(shape=(n**2, n**2 + 1)) # max vec size to have a guaranteed solution other than non-trivial\n",
        "  for i in range(n**2+1):\n",
        "    M_vec[:,i] = M_power.flatten()\n",
        "    M_power = np.matmul(M_power, M)\n",
        "\n",
        "  null_s = null_space(M_vec) # Gets the null space\n",
        "  print(np.allclose(M_vec.dot(null_s), 0))  # Checks the null space solution is ok\n",
        "  return null_s[:,0] # returns just the first vector from the null space\n",
        "\n",
        "annihilate_poly([[1,2], [3,4]]) # an example to test\n",
        "\n"
      ],
      "execution_count": 26,
      "outputs": [
        {
          "output_type": "stream",
          "text": [
            "True\n"
          ],
          "name": "stdout"
        },
        {
          "output_type": "execute_result",
          "data": {
            "text/plain": [
              "array([ 0.37115547,  0.88506757, -0.25317143,  0.12005823, -0.01972954])"
            ]
          },
          "metadata": {
            "tags": []
          },
          "execution_count": 26
        }
      ]
    },
    {
      "cell_type": "code",
      "metadata": {
        "id": "mqHILRflSb1O",
        "colab_type": "code",
        "colab": {
          "base_uri": "https://localhost:8080/",
          "height": 51
        },
        "outputId": "aefedf1f-d7e1-4b07-d9c1-0aeefd791597"
      },
      "source": [
        "import numpy as np\n",
        "from scipy.linalg import null_space\n",
        "import pdb\n",
        "\n",
        "def annihilate_min_deg_poly(M):\n",
        "  M = np.array(M)\n",
        "  size = M.shape\n",
        "  #  Check for proper Matrix dimensions\n",
        "  if len(size) != 2:\n",
        "    print('Please enter a proper square matrix')\n",
        "    exit(0)\n",
        "  elif size[0] != size[1]:\n",
        "    print('Matrix shpuld be a square matrix')\n",
        "    exit(0)\n",
        "  n = size[0] # the size of matrix\n",
        "  M_power = np.identity(n)\n",
        "  M_vec = np.zeros(shape=(n**2, n**2 + 1)) # max vec size to have a guaranteed solution other than non-trivial\n",
        "  for i in range(n**2+1):\n",
        "    M_vec[:,i] = M_power.flatten()\n",
        "    M_power = np.matmul(M_power, M)\n",
        "    null_s = null_space(M_vec[:, 0:i+1]) # Gets the null space\n",
        "    if null_s.any():  # If there is a non-trivial solution for null-space it ends the for loop\n",
        "      # print(null_s)\n",
        "      break\n",
        "  \n",
        "  print(np.allclose(M_vec[:, 0:i+1].dot(null_s), 0))  # Checks the null space solution is ok\n",
        "  return null_s[:,0] # returns just the first vector from the null space\n",
        "\n",
        "annihilate_min_deg_poly([[1,2], [3,4]]) # an example to test"
      ],
      "execution_count": 34,
      "outputs": [
        {
          "output_type": "stream",
          "text": [
            "True\n"
          ],
          "name": "stdout"
        },
        {
          "output_type": "execute_result",
          "data": {
            "text/plain": [
              "array([-0.36514837, -0.91287093,  0.18257419])"
            ]
          },
          "metadata": {
            "tags": []
          },
          "execution_count": 34
        }
      ]
    }
  ]
}